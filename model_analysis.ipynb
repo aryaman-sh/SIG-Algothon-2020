{
 "cells": [
  {
   "cell_type": "code",
   "execution_count": 7,
   "metadata": {},
   "outputs": [
    {
     "data": {
      "text/html": [
       "<div>\n",
       "<style scoped>\n",
       "    .dataframe tbody tr th:only-of-type {\n",
       "        vertical-align: middle;\n",
       "    }\n",
       "\n",
       "    .dataframe tbody tr th {\n",
       "        vertical-align: top;\n",
       "    }\n",
       "\n",
       "    .dataframe thead th {\n",
       "        text-align: right;\n",
       "    }\n",
       "</style>\n",
       "<table border=\"1\" class=\"dataframe\">\n",
       "  <thead>\n",
       "    <tr style=\"text-align: right;\">\n",
       "      <th></th>\n",
       "      <th>Date</th>\n",
       "      <th>High</th>\n",
       "      <th>Low</th>\n",
       "      <th>Open</th>\n",
       "      <th>Close</th>\n",
       "      <th>Volume</th>\n",
       "      <th>Adj Close</th>\n",
       "    </tr>\n",
       "  </thead>\n",
       "  <tbody>\n",
       "    <tr>\n",
       "      <th>0</th>\n",
       "      <td>2019-12-31</td>\n",
       "      <td>322.130005</td>\n",
       "      <td>320.149994</td>\n",
       "      <td>320.529999</td>\n",
       "      <td>321.859985</td>\n",
       "      <td>57077300.0</td>\n",
       "      <td>317.306335</td>\n",
       "    </tr>\n",
       "    <tr>\n",
       "      <th>1</th>\n",
       "      <td>2020-01-02</td>\n",
       "      <td>324.890015</td>\n",
       "      <td>322.529999</td>\n",
       "      <td>323.540009</td>\n",
       "      <td>324.869995</td>\n",
       "      <td>59151200.0</td>\n",
       "      <td>320.273743</td>\n",
       "    </tr>\n",
       "    <tr>\n",
       "      <th>2</th>\n",
       "      <td>2020-01-03</td>\n",
       "      <td>323.640015</td>\n",
       "      <td>321.100006</td>\n",
       "      <td>321.160004</td>\n",
       "      <td>322.410004</td>\n",
       "      <td>77709700.0</td>\n",
       "      <td>317.848572</td>\n",
       "    </tr>\n",
       "    <tr>\n",
       "      <th>3</th>\n",
       "      <td>2020-01-06</td>\n",
       "      <td>323.730011</td>\n",
       "      <td>320.359985</td>\n",
       "      <td>320.489990</td>\n",
       "      <td>323.640015</td>\n",
       "      <td>55653900.0</td>\n",
       "      <td>319.061188</td>\n",
       "    </tr>\n",
       "    <tr>\n",
       "      <th>4</th>\n",
       "      <td>2020-01-07</td>\n",
       "      <td>323.540009</td>\n",
       "      <td>322.239990</td>\n",
       "      <td>323.019989</td>\n",
       "      <td>322.730011</td>\n",
       "      <td>40496400.0</td>\n",
       "      <td>318.164032</td>\n",
       "    </tr>\n",
       "    <tr>\n",
       "      <th>5</th>\n",
       "      <td>2020-01-08</td>\n",
       "      <td>325.779999</td>\n",
       "      <td>322.670013</td>\n",
       "      <td>322.940002</td>\n",
       "      <td>324.450012</td>\n",
       "      <td>68296000.0</td>\n",
       "      <td>319.859741</td>\n",
       "    </tr>\n",
       "    <tr>\n",
       "      <th>6</th>\n",
       "      <td>2020-01-09</td>\n",
       "      <td>326.730011</td>\n",
       "      <td>325.519989</td>\n",
       "      <td>326.160004</td>\n",
       "      <td>326.649994</td>\n",
       "      <td>48473300.0</td>\n",
       "      <td>322.028564</td>\n",
       "    </tr>\n",
       "    <tr>\n",
       "      <th>7</th>\n",
       "      <td>2020-01-10</td>\n",
       "      <td>327.459991</td>\n",
       "      <td>325.200012</td>\n",
       "      <td>327.290009</td>\n",
       "      <td>325.709991</td>\n",
       "      <td>53029300.0</td>\n",
       "      <td>321.101868</td>\n",
       "    </tr>\n",
       "    <tr>\n",
       "      <th>8</th>\n",
       "      <td>2020-01-13</td>\n",
       "      <td>327.959991</td>\n",
       "      <td>325.920013</td>\n",
       "      <td>326.390015</td>\n",
       "      <td>327.950012</td>\n",
       "      <td>47086800.0</td>\n",
       "      <td>323.310181</td>\n",
       "    </tr>\n",
       "    <tr>\n",
       "      <th>9</th>\n",
       "      <td>2020-01-14</td>\n",
       "      <td>328.619995</td>\n",
       "      <td>326.839996</td>\n",
       "      <td>327.470001</td>\n",
       "      <td>327.450012</td>\n",
       "      <td>62832800.0</td>\n",
       "      <td>322.817261</td>\n",
       "    </tr>\n",
       "    <tr>\n",
       "      <th>10</th>\n",
       "      <td>2020-01-15</td>\n",
       "      <td>329.019989</td>\n",
       "      <td>327.260010</td>\n",
       "      <td>327.350006</td>\n",
       "      <td>328.190002</td>\n",
       "      <td>72056600.0</td>\n",
       "      <td>323.546783</td>\n",
       "    </tr>\n",
       "    <tr>\n",
       "      <th>11</th>\n",
       "      <td>2020-01-16</td>\n",
       "      <td>330.920013</td>\n",
       "      <td>329.450012</td>\n",
       "      <td>329.700012</td>\n",
       "      <td>330.920013</td>\n",
       "      <td>54050300.0</td>\n",
       "      <td>326.238159</td>\n",
       "    </tr>\n",
       "    <tr>\n",
       "      <th>12</th>\n",
       "      <td>2020-01-17</td>\n",
       "      <td>332.179993</td>\n",
       "      <td>330.850006</td>\n",
       "      <td>331.700012</td>\n",
       "      <td>331.950012</td>\n",
       "      <td>95846000.0</td>\n",
       "      <td>327.253632</td>\n",
       "    </tr>\n",
       "    <tr>\n",
       "      <th>13</th>\n",
       "      <td>2020-01-21</td>\n",
       "      <td>332.179993</td>\n",
       "      <td>330.820007</td>\n",
       "      <td>330.899994</td>\n",
       "      <td>331.299988</td>\n",
       "      <td>77742400.0</td>\n",
       "      <td>326.612793</td>\n",
       "    </tr>\n",
       "    <tr>\n",
       "      <th>14</th>\n",
       "      <td>2020-01-22</td>\n",
       "      <td>332.950012</td>\n",
       "      <td>331.170013</td>\n",
       "      <td>332.239990</td>\n",
       "      <td>331.339996</td>\n",
       "      <td>48914900.0</td>\n",
       "      <td>326.652222</td>\n",
       "    </tr>\n",
       "    <tr>\n",
       "      <th>15</th>\n",
       "      <td>2020-01-23</td>\n",
       "      <td>332.170013</td>\n",
       "      <td>329.410004</td>\n",
       "      <td>330.630005</td>\n",
       "      <td>331.720001</td>\n",
       "      <td>51963000.0</td>\n",
       "      <td>327.026855</td>\n",
       "    </tr>\n",
       "    <tr>\n",
       "      <th>16</th>\n",
       "      <td>2020-01-24</td>\n",
       "      <td>332.529999</td>\n",
       "      <td>327.359985</td>\n",
       "      <td>332.440002</td>\n",
       "      <td>328.769989</td>\n",
       "      <td>87578400.0</td>\n",
       "      <td>324.118561</td>\n",
       "    </tr>\n",
       "    <tr>\n",
       "      <th>17</th>\n",
       "      <td>2020-01-27</td>\n",
       "      <td>325.119995</td>\n",
       "      <td>322.660004</td>\n",
       "      <td>323.029999</td>\n",
       "      <td>323.500000</td>\n",
       "      <td>84062500.0</td>\n",
       "      <td>318.923157</td>\n",
       "    </tr>\n",
       "    <tr>\n",
       "      <th>18</th>\n",
       "      <td>2020-01-28</td>\n",
       "      <td>327.850006</td>\n",
       "      <td>323.600006</td>\n",
       "      <td>325.059998</td>\n",
       "      <td>326.890015</td>\n",
       "      <td>63834000.0</td>\n",
       "      <td>322.265198</td>\n",
       "    </tr>\n",
       "    <tr>\n",
       "      <th>19</th>\n",
       "      <td>2020-01-29</td>\n",
       "      <td>328.630005</td>\n",
       "      <td>326.399994</td>\n",
       "      <td>328.380005</td>\n",
       "      <td>326.619995</td>\n",
       "      <td>53888900.0</td>\n",
       "      <td>321.998993</td>\n",
       "    </tr>\n",
       "    <tr>\n",
       "      <th>20</th>\n",
       "      <td>2020-01-30</td>\n",
       "      <td>327.910004</td>\n",
       "      <td>323.540009</td>\n",
       "      <td>324.359985</td>\n",
       "      <td>327.679993</td>\n",
       "      <td>75491800.0</td>\n",
       "      <td>323.044006</td>\n",
       "    </tr>\n",
       "    <tr>\n",
       "      <th>21</th>\n",
       "      <td>2020-01-31</td>\n",
       "      <td>327.170013</td>\n",
       "      <td>320.730011</td>\n",
       "      <td>327.000000</td>\n",
       "      <td>321.730011</td>\n",
       "      <td>113845600.0</td>\n",
       "      <td>317.178192</td>\n",
       "    </tr>\n",
       "    <tr>\n",
       "      <th>22</th>\n",
       "      <td>2020-02-03</td>\n",
       "      <td>326.160004</td>\n",
       "      <td>323.220001</td>\n",
       "      <td>323.350006</td>\n",
       "      <td>324.119995</td>\n",
       "      <td>69242300.0</td>\n",
       "      <td>319.534393</td>\n",
       "    </tr>\n",
       "    <tr>\n",
       "      <th>23</th>\n",
       "      <td>2020-02-04</td>\n",
       "      <td>330.010010</td>\n",
       "      <td>327.720001</td>\n",
       "      <td>328.070007</td>\n",
       "      <td>329.059998</td>\n",
       "      <td>62573200.0</td>\n",
       "      <td>324.404449</td>\n",
       "    </tr>\n",
       "    <tr>\n",
       "      <th>24</th>\n",
       "      <td>2020-02-05</td>\n",
       "      <td>333.089996</td>\n",
       "      <td>330.670013</td>\n",
       "      <td>332.269989</td>\n",
       "      <td>332.859985</td>\n",
       "      <td>65951100.0</td>\n",
       "      <td>328.150696</td>\n",
       "    </tr>\n",
       "    <tr>\n",
       "      <th>25</th>\n",
       "      <td>2020-02-06</td>\n",
       "      <td>334.190002</td>\n",
       "      <td>332.799988</td>\n",
       "      <td>333.910004</td>\n",
       "      <td>333.980011</td>\n",
       "      <td>50359700.0</td>\n",
       "      <td>329.254883</td>\n",
       "    </tr>\n",
       "    <tr>\n",
       "      <th>26</th>\n",
       "      <td>2020-02-07</td>\n",
       "      <td>333.989990</td>\n",
       "      <td>331.600006</td>\n",
       "      <td>332.820007</td>\n",
       "      <td>332.200012</td>\n",
       "      <td>64139400.0</td>\n",
       "      <td>327.500061</td>\n",
       "    </tr>\n",
       "    <tr>\n",
       "      <th>27</th>\n",
       "      <td>2020-02-10</td>\n",
       "      <td>334.750000</td>\n",
       "      <td>331.190002</td>\n",
       "      <td>331.230011</td>\n",
       "      <td>334.679993</td>\n",
       "      <td>42070000.0</td>\n",
       "      <td>329.944977</td>\n",
       "    </tr>\n",
       "    <tr>\n",
       "      <th>28</th>\n",
       "      <td>2020-02-11</td>\n",
       "      <td>337.019989</td>\n",
       "      <td>334.679993</td>\n",
       "      <td>336.160004</td>\n",
       "      <td>335.260010</td>\n",
       "      <td>54864500.0</td>\n",
       "      <td>330.516754</td>\n",
       "    </tr>\n",
       "    <tr>\n",
       "      <th>29</th>\n",
       "      <td>2020-02-12</td>\n",
       "      <td>337.649994</td>\n",
       "      <td>336.429993</td>\n",
       "      <td>336.829987</td>\n",
       "      <td>337.420013</td>\n",
       "      <td>43992700.0</td>\n",
       "      <td>332.646210</td>\n",
       "    </tr>\n",
       "    <tr>\n",
       "      <th>30</th>\n",
       "      <td>2020-02-13</td>\n",
       "      <td>338.119995</td>\n",
       "      <td>335.559998</td>\n",
       "      <td>335.859985</td>\n",
       "      <td>337.059998</td>\n",
       "      <td>54501900.0</td>\n",
       "      <td>332.291290</td>\n",
       "    </tr>\n",
       "    <tr>\n",
       "      <th>31</th>\n",
       "      <td>2020-02-14</td>\n",
       "      <td>337.730011</td>\n",
       "      <td>336.200012</td>\n",
       "      <td>337.510010</td>\n",
       "      <td>337.600006</td>\n",
       "      <td>64582200.0</td>\n",
       "      <td>332.823669</td>\n",
       "    </tr>\n",
       "    <tr>\n",
       "      <th>32</th>\n",
       "      <td>2020-02-18</td>\n",
       "      <td>337.670013</td>\n",
       "      <td>335.209991</td>\n",
       "      <td>336.510010</td>\n",
       "      <td>336.730011</td>\n",
       "      <td>57226200.0</td>\n",
       "      <td>331.965973</td>\n",
       "    </tr>\n",
       "    <tr>\n",
       "      <th>33</th>\n",
       "      <td>2020-02-19</td>\n",
       "      <td>339.079987</td>\n",
       "      <td>337.480011</td>\n",
       "      <td>337.790009</td>\n",
       "      <td>338.339996</td>\n",
       "      <td>48814700.0</td>\n",
       "      <td>333.553162</td>\n",
       "    </tr>\n",
       "    <tr>\n",
       "      <th>34</th>\n",
       "      <td>2020-02-20</td>\n",
       "      <td>338.640015</td>\n",
       "      <td>333.679993</td>\n",
       "      <td>337.739990</td>\n",
       "      <td>336.950012</td>\n",
       "      <td>74163400.0</td>\n",
       "      <td>332.182892</td>\n",
       "    </tr>\n",
       "    <tr>\n",
       "      <th>35</th>\n",
       "      <td>2020-02-21</td>\n",
       "      <td>335.809998</td>\n",
       "      <td>332.579987</td>\n",
       "      <td>335.470001</td>\n",
       "      <td>333.480011</td>\n",
       "      <td>113788200.0</td>\n",
       "      <td>328.761963</td>\n",
       "    </tr>\n",
       "    <tr>\n",
       "      <th>36</th>\n",
       "      <td>2020-02-24</td>\n",
       "      <td>333.559998</td>\n",
       "      <td>321.239990</td>\n",
       "      <td>323.140015</td>\n",
       "      <td>322.420013</td>\n",
       "      <td>161088400.0</td>\n",
       "      <td>317.858429</td>\n",
       "    </tr>\n",
       "    <tr>\n",
       "      <th>37</th>\n",
       "      <td>2020-02-25</td>\n",
       "      <td>324.609985</td>\n",
       "      <td>311.690002</td>\n",
       "      <td>323.940002</td>\n",
       "      <td>312.649994</td>\n",
       "      <td>218913200.0</td>\n",
       "      <td>308.226624</td>\n",
       "    </tr>\n",
       "    <tr>\n",
       "      <th>38</th>\n",
       "      <td>2020-02-26</td>\n",
       "      <td>318.109985</td>\n",
       "      <td>310.700012</td>\n",
       "      <td>314.179993</td>\n",
       "      <td>311.500000</td>\n",
       "      <td>194773800.0</td>\n",
       "      <td>307.092926</td>\n",
       "    </tr>\n",
       "    <tr>\n",
       "      <th>39</th>\n",
       "      <td>2020-02-27</td>\n",
       "      <td>311.559998</td>\n",
       "      <td>297.510010</td>\n",
       "      <td>305.459991</td>\n",
       "      <td>297.510010</td>\n",
       "      <td>284353500.0</td>\n",
       "      <td>293.300873</td>\n",
       "    </tr>\n",
       "    <tr>\n",
       "      <th>40</th>\n",
       "      <td>2020-02-28</td>\n",
       "      <td>297.890015</td>\n",
       "      <td>285.540009</td>\n",
       "      <td>288.700012</td>\n",
       "      <td>296.260010</td>\n",
       "      <td>385764000.0</td>\n",
       "      <td>292.068542</td>\n",
       "    </tr>\n",
       "    <tr>\n",
       "      <th>41</th>\n",
       "      <td>2020-03-02</td>\n",
       "      <td>309.160004</td>\n",
       "      <td>294.459991</td>\n",
       "      <td>298.209991</td>\n",
       "      <td>309.089996</td>\n",
       "      <td>238703600.0</td>\n",
       "      <td>304.716980</td>\n",
       "    </tr>\n",
       "    <tr>\n",
       "      <th>42</th>\n",
       "      <td>2020-03-03</td>\n",
       "      <td>313.839996</td>\n",
       "      <td>297.570007</td>\n",
       "      <td>309.500000</td>\n",
       "      <td>300.239990</td>\n",
       "      <td>300139100.0</td>\n",
       "      <td>295.992218</td>\n",
       "    </tr>\n",
       "    <tr>\n",
       "      <th>43</th>\n",
       "      <td>2020-03-04</td>\n",
       "      <td>313.100006</td>\n",
       "      <td>303.329987</td>\n",
       "      <td>306.119995</td>\n",
       "      <td>312.859985</td>\n",
       "      <td>176613400.0</td>\n",
       "      <td>308.433655</td>\n",
       "    </tr>\n",
       "    <tr>\n",
       "      <th>44</th>\n",
       "      <td>2020-03-05</td>\n",
       "      <td>308.470001</td>\n",
       "      <td>300.010010</td>\n",
       "      <td>304.980011</td>\n",
       "      <td>302.459991</td>\n",
       "      <td>186366800.0</td>\n",
       "      <td>298.180817</td>\n",
       "    </tr>\n",
       "    <tr>\n",
       "      <th>45</th>\n",
       "      <td>2020-03-06</td>\n",
       "      <td>298.779999</td>\n",
       "      <td>290.230011</td>\n",
       "      <td>293.149994</td>\n",
       "      <td>297.459991</td>\n",
       "      <td>228667200.0</td>\n",
       "      <td>293.251556</td>\n",
       "    </tr>\n",
       "    <tr>\n",
       "      <th>46</th>\n",
       "      <td>2020-03-09</td>\n",
       "      <td>284.190002</td>\n",
       "      <td>273.450012</td>\n",
       "      <td>275.299988</td>\n",
       "      <td>274.230011</td>\n",
       "      <td>309417300.0</td>\n",
       "      <td>270.350220</td>\n",
       "    </tr>\n",
       "    <tr>\n",
       "      <th>47</th>\n",
       "      <td>2020-03-10</td>\n",
       "      <td>288.519989</td>\n",
       "      <td>273.500000</td>\n",
       "      <td>284.640015</td>\n",
       "      <td>288.420013</td>\n",
       "      <td>276444100.0</td>\n",
       "      <td>284.339478</td>\n",
       "    </tr>\n",
       "    <tr>\n",
       "      <th>48</th>\n",
       "      <td>2020-03-11</td>\n",
       "      <td>281.940002</td>\n",
       "      <td>270.880005</td>\n",
       "      <td>280.700012</td>\n",
       "      <td>274.359985</td>\n",
       "      <td>255316300.0</td>\n",
       "      <td>270.478394</td>\n",
       "    </tr>\n",
       "    <tr>\n",
       "      <th>49</th>\n",
       "      <td>2020-03-12</td>\n",
       "      <td>266.660004</td>\n",
       "      <td>247.679993</td>\n",
       "      <td>256.000000</td>\n",
       "      <td>248.110001</td>\n",
       "      <td>392220700.0</td>\n",
       "      <td>244.599762</td>\n",
       "    </tr>\n",
       "    <tr>\n",
       "      <th>50</th>\n",
       "      <td>2020-03-13</td>\n",
       "      <td>271.480011</td>\n",
       "      <td>248.520004</td>\n",
       "      <td>263.089996</td>\n",
       "      <td>269.320007</td>\n",
       "      <td>329566100.0</td>\n",
       "      <td>265.509674</td>\n",
       "    </tr>\n",
       "    <tr>\n",
       "      <th>51</th>\n",
       "      <td>2020-03-16</td>\n",
       "      <td>256.899994</td>\n",
       "      <td>237.360001</td>\n",
       "      <td>241.179993</td>\n",
       "      <td>239.850006</td>\n",
       "      <td>297240000.0</td>\n",
       "      <td>236.456635</td>\n",
       "    </tr>\n",
       "    <tr>\n",
       "      <th>52</th>\n",
       "      <td>2020-03-17</td>\n",
       "      <td>256.170013</td>\n",
       "      <td>237.070007</td>\n",
       "      <td>245.039993</td>\n",
       "      <td>252.800003</td>\n",
       "      <td>262070500.0</td>\n",
       "      <td>249.223404</td>\n",
       "    </tr>\n",
       "    <tr>\n",
       "      <th>53</th>\n",
       "      <td>2020-03-18</td>\n",
       "      <td>248.369995</td>\n",
       "      <td>228.020004</td>\n",
       "      <td>236.250000</td>\n",
       "      <td>240.000000</td>\n",
       "      <td>327597100.0</td>\n",
       "      <td>236.604492</td>\n",
       "    </tr>\n",
       "    <tr>\n",
       "      <th>54</th>\n",
       "      <td>2020-03-19</td>\n",
       "      <td>247.380005</td>\n",
       "      <td>232.220001</td>\n",
       "      <td>239.250000</td>\n",
       "      <td>240.509995</td>\n",
       "      <td>289322000.0</td>\n",
       "      <td>237.107269</td>\n",
       "    </tr>\n",
       "    <tr>\n",
       "      <th>55</th>\n",
       "      <td>2020-03-20</td>\n",
       "      <td>244.470001</td>\n",
       "      <td>228.500000</td>\n",
       "      <td>242.529999</td>\n",
       "      <td>228.800003</td>\n",
       "      <td>347158800.0</td>\n",
       "      <td>226.889328</td>\n",
       "    </tr>\n",
       "  </tbody>\n",
       "</table>\n",
       "</div>"
      ],
      "text/plain": [
       "         Date        High         Low        Open       Close       Volume  \\\n",
       "0  2019-12-31  322.130005  320.149994  320.529999  321.859985   57077300.0   \n",
       "1  2020-01-02  324.890015  322.529999  323.540009  324.869995   59151200.0   \n",
       "2  2020-01-03  323.640015  321.100006  321.160004  322.410004   77709700.0   \n",
       "3  2020-01-06  323.730011  320.359985  320.489990  323.640015   55653900.0   \n",
       "4  2020-01-07  323.540009  322.239990  323.019989  322.730011   40496400.0   \n",
       "5  2020-01-08  325.779999  322.670013  322.940002  324.450012   68296000.0   \n",
       "6  2020-01-09  326.730011  325.519989  326.160004  326.649994   48473300.0   \n",
       "7  2020-01-10  327.459991  325.200012  327.290009  325.709991   53029300.0   \n",
       "8  2020-01-13  327.959991  325.920013  326.390015  327.950012   47086800.0   \n",
       "9  2020-01-14  328.619995  326.839996  327.470001  327.450012   62832800.0   \n",
       "10 2020-01-15  329.019989  327.260010  327.350006  328.190002   72056600.0   \n",
       "11 2020-01-16  330.920013  329.450012  329.700012  330.920013   54050300.0   \n",
       "12 2020-01-17  332.179993  330.850006  331.700012  331.950012   95846000.0   \n",
       "13 2020-01-21  332.179993  330.820007  330.899994  331.299988   77742400.0   \n",
       "14 2020-01-22  332.950012  331.170013  332.239990  331.339996   48914900.0   \n",
       "15 2020-01-23  332.170013  329.410004  330.630005  331.720001   51963000.0   \n",
       "16 2020-01-24  332.529999  327.359985  332.440002  328.769989   87578400.0   \n",
       "17 2020-01-27  325.119995  322.660004  323.029999  323.500000   84062500.0   \n",
       "18 2020-01-28  327.850006  323.600006  325.059998  326.890015   63834000.0   \n",
       "19 2020-01-29  328.630005  326.399994  328.380005  326.619995   53888900.0   \n",
       "20 2020-01-30  327.910004  323.540009  324.359985  327.679993   75491800.0   \n",
       "21 2020-01-31  327.170013  320.730011  327.000000  321.730011  113845600.0   \n",
       "22 2020-02-03  326.160004  323.220001  323.350006  324.119995   69242300.0   \n",
       "23 2020-02-04  330.010010  327.720001  328.070007  329.059998   62573200.0   \n",
       "24 2020-02-05  333.089996  330.670013  332.269989  332.859985   65951100.0   \n",
       "25 2020-02-06  334.190002  332.799988  333.910004  333.980011   50359700.0   \n",
       "26 2020-02-07  333.989990  331.600006  332.820007  332.200012   64139400.0   \n",
       "27 2020-02-10  334.750000  331.190002  331.230011  334.679993   42070000.0   \n",
       "28 2020-02-11  337.019989  334.679993  336.160004  335.260010   54864500.0   \n",
       "29 2020-02-12  337.649994  336.429993  336.829987  337.420013   43992700.0   \n",
       "30 2020-02-13  338.119995  335.559998  335.859985  337.059998   54501900.0   \n",
       "31 2020-02-14  337.730011  336.200012  337.510010  337.600006   64582200.0   \n",
       "32 2020-02-18  337.670013  335.209991  336.510010  336.730011   57226200.0   \n",
       "33 2020-02-19  339.079987  337.480011  337.790009  338.339996   48814700.0   \n",
       "34 2020-02-20  338.640015  333.679993  337.739990  336.950012   74163400.0   \n",
       "35 2020-02-21  335.809998  332.579987  335.470001  333.480011  113788200.0   \n",
       "36 2020-02-24  333.559998  321.239990  323.140015  322.420013  161088400.0   \n",
       "37 2020-02-25  324.609985  311.690002  323.940002  312.649994  218913200.0   \n",
       "38 2020-02-26  318.109985  310.700012  314.179993  311.500000  194773800.0   \n",
       "39 2020-02-27  311.559998  297.510010  305.459991  297.510010  284353500.0   \n",
       "40 2020-02-28  297.890015  285.540009  288.700012  296.260010  385764000.0   \n",
       "41 2020-03-02  309.160004  294.459991  298.209991  309.089996  238703600.0   \n",
       "42 2020-03-03  313.839996  297.570007  309.500000  300.239990  300139100.0   \n",
       "43 2020-03-04  313.100006  303.329987  306.119995  312.859985  176613400.0   \n",
       "44 2020-03-05  308.470001  300.010010  304.980011  302.459991  186366800.0   \n",
       "45 2020-03-06  298.779999  290.230011  293.149994  297.459991  228667200.0   \n",
       "46 2020-03-09  284.190002  273.450012  275.299988  274.230011  309417300.0   \n",
       "47 2020-03-10  288.519989  273.500000  284.640015  288.420013  276444100.0   \n",
       "48 2020-03-11  281.940002  270.880005  280.700012  274.359985  255316300.0   \n",
       "49 2020-03-12  266.660004  247.679993  256.000000  248.110001  392220700.0   \n",
       "50 2020-03-13  271.480011  248.520004  263.089996  269.320007  329566100.0   \n",
       "51 2020-03-16  256.899994  237.360001  241.179993  239.850006  297240000.0   \n",
       "52 2020-03-17  256.170013  237.070007  245.039993  252.800003  262070500.0   \n",
       "53 2020-03-18  248.369995  228.020004  236.250000  240.000000  327597100.0   \n",
       "54 2020-03-19  247.380005  232.220001  239.250000  240.509995  289322000.0   \n",
       "55 2020-03-20  244.470001  228.500000  242.529999  228.800003  347158800.0   \n",
       "\n",
       "     Adj Close  \n",
       "0   317.306335  \n",
       "1   320.273743  \n",
       "2   317.848572  \n",
       "3   319.061188  \n",
       "4   318.164032  \n",
       "5   319.859741  \n",
       "6   322.028564  \n",
       "7   321.101868  \n",
       "8   323.310181  \n",
       "9   322.817261  \n",
       "10  323.546783  \n",
       "11  326.238159  \n",
       "12  327.253632  \n",
       "13  326.612793  \n",
       "14  326.652222  \n",
       "15  327.026855  \n",
       "16  324.118561  \n",
       "17  318.923157  \n",
       "18  322.265198  \n",
       "19  321.998993  \n",
       "20  323.044006  \n",
       "21  317.178192  \n",
       "22  319.534393  \n",
       "23  324.404449  \n",
       "24  328.150696  \n",
       "25  329.254883  \n",
       "26  327.500061  \n",
       "27  329.944977  \n",
       "28  330.516754  \n",
       "29  332.646210  \n",
       "30  332.291290  \n",
       "31  332.823669  \n",
       "32  331.965973  \n",
       "33  333.553162  \n",
       "34  332.182892  \n",
       "35  328.761963  \n",
       "36  317.858429  \n",
       "37  308.226624  \n",
       "38  307.092926  \n",
       "39  293.300873  \n",
       "40  292.068542  \n",
       "41  304.716980  \n",
       "42  295.992218  \n",
       "43  308.433655  \n",
       "44  298.180817  \n",
       "45  293.251556  \n",
       "46  270.350220  \n",
       "47  284.339478  \n",
       "48  270.478394  \n",
       "49  244.599762  \n",
       "50  265.509674  \n",
       "51  236.456635  \n",
       "52  249.223404  \n",
       "53  236.604492  \n",
       "54  237.107269  \n",
       "55  226.889328  "
      ]
     },
     "execution_count": 7,
     "metadata": {},
     "output_type": "execute_result"
    }
   ],
   "source": [
    "#Get data\n",
    "import pandas as pd\n",
    "import pandas_datareader.data as web\n",
    "from datetime import datetime\n",
    "start = datetime(2020, 1,1 )\n",
    "end = datetime(2020, 3, 20)\n",
    "stock_df = web.DataReader('SPY','yahoo', start, end).reset_index()\n",
    "stock_df\n"
   ]
  },
  {
   "cell_type": "code",
   "execution_count": 14,
   "metadata": {},
   "outputs": [],
   "source": [
    "#for now lets train a sample linear regression model and plot rmse\n",
    "import numpy as np\n",
    "stock_df['row_num'] = np.arange(len(stock_df))"
   ]
  },
  {
   "cell_type": "code",
   "execution_count": 213,
   "metadata": {},
   "outputs": [
    {
     "data": {
      "text/plain": [
       "LinearRegression()"
      ]
     },
     "execution_count": 213,
     "metadata": {},
     "output_type": "execute_result"
    }
   ],
   "source": [
    "from sklearn import linear_model\n",
    "reg = linear_model.LinearRegression()\n",
    "reg.fit(stock_df[['row_num']], stock_df.Close)"
   ]
  },
  {
   "cell_type": "code",
   "execution_count": 214,
   "metadata": {},
   "outputs": [],
   "source": [
    "#plotting rmse vs training set size\n",
    "from sklearn.metrics import mean_squared_error\n",
    "from sklearn.model_selection import train_test_split\n",
    "%matplotlib inline\n",
    "import matplotlib.pyplot as plt\n",
    "\n",
    "def plot_learning_curves(model, X, y):\n",
    "    X_train, X_val, y_train, y_val = train_test_split(X, y, test_size=0.2)\n",
    "    train_errors, val_errors = [], []\n",
    "    for m in range (1, len(X_train)):\n",
    "        model.fit(X_train[:m], y_train[:m])\n",
    "        y_train_predict = model.predict(X_train[:m])\n",
    "        y_val_predict = model.predict(X_val)\n",
    "        train_errors.append(mean_squared_error(y_train[:m], y_train_predict))\n",
    "        val_errors.append(mean_squared_error(y_val, y_val_predict))\n",
    "    plt.ylabel('RMSE')\n",
    "    plt.xlabel('training set size')\n",
    "    plt.plot(np.sqrt(train_errors), \"r-+\", linewidth=2, label=\"train\")\n",
    "    plt.plot(np.sqrt(val_errors), \"b-\", linewidth=3,label = \"validation data\")"
   ]
  },
  {
   "cell_type": "code",
   "execution_count": 257,
   "metadata": {},
   "outputs": [
    {
     "data": {
      "image/png": "[encoded data removed]",
      "text/plain": [
       "<Figure size 432x288 with 1 Axes>"
      ]
     },
     "metadata": {
      "needs_background": "light"
     },
     "output_type": "display_data"
    }
   ],
   "source": [
    "\n",
    "#for a linear model\n",
    "lin_reg = linear_model.LinearRegression()\n",
    "plot_learning_curves(lin_reg, stock_df[['row_num']], stock_df.Close)"
   ]
  },
  {
   "cell_type": "code",
   "execution_count": 18,
   "metadata": {},
   "outputs": [
    {
     "data": {
      "text/plain": [
       "[<matplotlib.lines.Line2D at 0x7f7caca3cc40>]"
      ]
     },
     "execution_count": 18,
     "metadata": {},
     "output_type": "execute_result"
    },
    {
     "data": {
      "image/png": "[encoded data removed]",
      "text/plain": [
       "<Figure size 432x288 with 1 Axes>"
      ]
     },
     "metadata": {
      "needs_background": "light"
     },
     "output_type": "display_data"
    }
   ],
   "source": [
    "import matplotlib.pyplot as plt\n",
    "from sklearn import linear_model\n",
    "reg = linear_model.LinearRegression()\n",
    "reg.fit(stock_df[['row_num']], stock_df.Close)\n",
    "lin_reg = linear_model.LinearRegression()\n",
    "plt.scatter(stock_df.row_num, stock_df.Close, color = 'red', marker='+')\n",
    "plt.plot(stock_df.row_num,reg.predict(stock_df[['row_num']]), color='blue')"
   ]
  },
  {
   "cell_type": "code",
   "execution_count": 23,
   "metadata": {},
   "outputs": [
    {
     "name": "stdout",
     "output_type": "stream",
     "text": [
      "rmse train 21.5297353960619, rmse val 15.410125574687834, r^2 train 0.5304774706164972, r^2 val 0.211210008902035\n"
     ]
    }
   ],
   "source": [
    "from sklearn.model_selection import train_test_split\n",
    "import matplotlib.pyplot as plt\n",
    "from sklearn import linear_model\n",
    "reg = linear_model.LinearRegression()\n",
    "reg.fit(stock_df[['row_num']], stock_df.Close)\n",
    "print_score(reg)"
   ]
  },
  {
   "cell_type": "code",
   "execution_count": 270,
   "metadata": {},
   "outputs": [
    {
     "data": {
      "image/png": "[encoded data removed]",
      "text/plain": [
       "<Figure size 432x288 with 1 Axes>"
      ]
     },
     "metadata": {
      "needs_background": "light"
     },
     "output_type": "display_data"
    }
   ],
   "source": [
    "from sklearn.preprocessing import PolynomialFeatures\n",
    "from sklearn.pipeline import Pipeline\n",
    "polynomial_regression = Pipeline([\n",
    "    (\"poly_features\", PolynomialFeatures(degree=2, include_bias = False)),\n",
    "    (\"lin_reg\", linear_model.LinearRegression()),\n",
    "])\n",
    "plot_learning_curves(polynomial_regression, stock_df[['row_num','Volume']], stock_df.Close)"
   ]
  },
  {
   "cell_type": "code",
   "execution_count": 369,
   "metadata": {},
   "outputs": [
    {
     "data": {
      "image/png": "[encoded data removed]",
      "text/plain": [
       "<Figure size 432x288 with 1 Axes>"
      ]
     },
     "metadata": {
      "needs_background": "light"
     },
     "output_type": "display_data"
    }
   ],
   "source": [
    "from sklearn.preprocessing import PolynomialFeatures\n",
    "from sklearn.pipeline import Pipeline\n",
    "polynomial_regression = Pipeline([\n",
    "    (\"poly_features\", PolynomialFeatures(degree=2, include_bias = False)),\n",
    "    (\"lin_reg\", linear_model.LinearRegression()),\n",
    "])\n",
    "plot_learning_curves(polynomial_regression, stock_df[['row_num']], stock_df.Close)"
   ]
  },
  {
   "cell_type": "code",
   "execution_count": 328,
   "metadata": {},
   "outputs": [
    {
     "data": {
      "image/png": "[encoded data removed]",
      "text/plain": [
       "<Figure size 432x288 with 1 Axes>"
      ]
     },
     "metadata": {
      "needs_background": "light"
     },
     "output_type": "display_data"
    }
   ],
   "source": [
    "#Trying out random forest\n",
    "from sklearn.ensemble import RandomForestRegressor\n",
    "\n",
    "#higher bias for lower variance\n",
    "from IPython.display import Image\n",
    "X = stock_df[['row_num']]\n",
    "y = stock_df.Close\n",
    "X_train, X_val, y_train, y_val = train_test_split(X, y, test_size=0.2)\n",
    "model = RandomForestRegressor(n_estimators=4, bootstrap=True, min_samples_leaf=25)\n",
    "#model.fit(X_train, y_train)\n",
    "plot_learning_curves(model, X, y)"
   ]
  },
  {
   "cell_type": "code",
   "execution_count": 279,
   "metadata": {},
   "outputs": [
    {
     "name": "stdout",
     "output_type": "stream",
     "text": [
      "rmse train 29.735484700559027, rmse val 28.961934833040797, r^2 train -0.013205179586873728, r^2 val -0.007406513152956817\n"
     ]
    }
   ],
   "source": [
    "print_score(model)"
   ]
  },
  {
   "cell_type": "code",
   "execution_count": 280,
   "metadata": {},
   "outputs": [
    {
     "data": {
      "text/plain": [
       "RandomForestRegressor(min_samples_leaf=25, n_estimators=3)"
      ]
     },
     "execution_count": 280,
     "metadata": {},
     "output_type": "execute_result"
    }
   ],
   "source": [
    "from sklearn import metrics\n",
    "\n",
    "model.fit(X_train, y_train)\n"
   ]
  },
  {
   "cell_type": "code",
   "execution_count": 20,
   "metadata": {},
   "outputs": [],
   "source": [
    "import math\n",
    "def rmse(x,y): return math.sqrt(((x-y)**2).mean())\n",
    "\n",
    "def print_score(m):\n",
    "    X = stock_df[['row_num']]\n",
    "    y = stock_df.Close\n",
    "    X_train, X_val, y_train, y_val = train_test_split(X, y, test_size=0.2)\n",
    "    res = [rmse(m.predict(X_train), y_train), rmse(m.predict(X_val), y_val),\n",
    "                m.score(X_train, y_train), m.score(X_val, y_val)]\n",
    "    print(f\"rmse train {res[0]}, rmse val {res[1]}, r^2 train {res[2]}, r^2 val {res[3]}\")\n"
   ]
  },
  {
   "cell_type": "code",
   "execution_count": 26,
   "metadata": {},
   "outputs": [
    {
     "data": {
      "text/plain": [
       "Pipeline(steps=[('poly_features', PolynomialFeatures(include_bias=False)),\n",
       "                ('lin_reg', LinearRegression())])"
      ]
     },
     "execution_count": 26,
     "metadata": {},
     "output_type": "execute_result"
    }
   ],
   "source": [
    "X = stock_df[['row_num']]\n",
    "y = stock_df.Close\n",
    "X_train, X_val, y_train, y_val = train_test_split(X, y, test_size=0.2)\n",
    "from sklearn.preprocessing import PolynomialFeatures\n",
    "from sklearn.pipeline import Pipeline\n",
    "polynomial_regression = Pipeline([\n",
    "    (\"poly_features\", PolynomialFeatures(degree=2, include_bias = False)),\n",
    "    (\"lin_reg\", linear_model.LinearRegression()),\n",
    "])\n",
    "polynomial_regression.fit(X_train, y_train)"
   ]
  },
  {
   "cell_type": "code",
   "execution_count": 27,
   "metadata": {},
   "outputs": [
    {
     "name": "stdout",
     "output_type": "stream",
     "text": [
      "rmse train 9.222169455372883, rmse val 9.67073263421929, r^2 train 0.9175180566879914, r^2 val 0.4736477641556691\n"
     ]
    }
   ],
   "source": [
    "print_score(polynomial_regression)"
   ]
  },
  {
   "cell_type": "code",
   "execution_count": null,
   "metadata": {},
   "outputs": [],
   "source": []
  },
  {
   "cell_type": "code",
   "execution_count": 3,
   "metadata": {},
   "outputs": [],
   "source": [
    "from sklearn.ensemble import GradientBoostingRegressor\n",
    "\n",
    "gbrt = GradientBoostingRegressor(max_depth=2, n_estimators=3, learning_rate=1.0)"
   ]
  },
  {
   "cell_type": "code",
   "execution_count": 287,
   "metadata": {},
   "outputs": [
    {
     "name": "stdout",
     "output_type": "stream",
     "text": [
      "rmse train 5.427235283194442, rmse val 6.538992053704334, r^2 train 0.9698394925338306, r^2 val 0.8349894470024449\n"
     ]
    }
   ],
   "source": [
    "gbrt.fit(X_train, y_train)\n",
    "\n",
    "print_score(gbrt)"
   ]
  },
  {
   "cell_type": "code",
   "execution_count": null,
   "metadata": {},
   "outputs": [],
   "source": []
  },
  {
   "cell_type": "code",
   "execution_count": 295,
   "metadata": {},
   "outputs": [
    {
     "data": {
      "image/png": "[encoded data removed]",
      "text/plain": [
       "<Figure size 432x288 with 1 Axes>"
      ]
     },
     "metadata": {
      "needs_background": "light"
     },
     "output_type": "display_data"
    }
   ],
   "source": [
    "#gradient Boosting regressor\n",
    "gbrt = GradientBoostingRegressor(max_depth=2, n_estimators=36)\n",
    "X = stock_df[['row_num']]\n",
    "y = stock_df.Close\n",
    "plot_learning_curves(gbrt, X, y)"
   ]
  },
  {
   "cell_type": "code",
   "execution_count": 342,
   "metadata": {},
   "outputs": [
    {
     "name": "stdout",
     "output_type": "stream",
     "text": [
      "33\n"
     ]
    },
    {
     "data": {
      "image/png": "[encoded data removed]",
      "text/plain": [
       "<Figure size 432x288 with 1 Axes>"
      ]
     },
     "metadata": {
      "needs_background": "light"
     },
     "output_type": "display_data"
    }
   ],
   "source": [
    "#best gradient boosting regression\n",
    "import numpy as np\n",
    "from sklearn.model_selection import train_test_split\n",
    "from sklearn.metrics import mean_squared_error\n",
    "X = stock_df[['row_num']]\n",
    "y = stock_df.Close\n",
    "X_train, X_val, y_train, y_val = train_test_split(X, y)\n",
    "\n",
    "gbrt = GradientBoostingRegressor(max_depth=2, n_estimators=120)\n",
    "gbrt.fit(X_train, y_train)\n",
    "\n",
    "errors = [mean_squared_error(y_val, y_pred)\n",
    "        for y_pred in gbrt.staged_predict(X_val)]\n",
    "bst_n_estimators = np.argmin(errors) + 1\n",
    "print(bst_n_estimators)\n",
    "gbrt_best = GradientBoostingRegressor(max_depth=2, n_estimators=bst_n_estimators, learning_rate=1.0)\n",
    "plot_learning_curves(gbrt_best, X, y)"
   ]
  },
  {
   "cell_type": "code",
   "execution_count": 233,
   "metadata": {},
   "outputs": [
    {
     "data": {
      "text/plain": [
       "[<matplotlib.lines.Line2D at 0x7fac30dfce50>]"
      ]
     },
     "execution_count": 233,
     "metadata": {},
     "output_type": "execute_result"
    },
    {
     "data": {
      "image/png": "[encoded data removed]",
      "text/plain": [
       "<Figure size 432x288 with 1 Axes>"
      ]
     },
     "metadata": {
      "needs_background": "light"
     },
     "output_type": "display_data"
    }
   ],
   "source": [
    "plt.scatter(stock_df.row_num, stock_df.Close, color = 'red', marker='+')\n",
    "plt.plot(stock_df.row_num,gbrt_best.predict(stock_df[['row_num']]), color='blue')"
   ]
  },
  {
   "cell_type": "code",
   "execution_count": 234,
   "metadata": {},
   "outputs": [
    {
     "data": {
      "text/plain": [
       "[<matplotlib.lines.Line2D at 0x7fac30ddc1f0>]"
      ]
     },
     "execution_count": 234,
     "metadata": {},
     "output_type": "execute_result"
    },
    {
     "data": {
      "image/png": "[encoded data removed]",
      "text/plain": [
       "<Figure size 432x288 with 1 Axes>"
      ]
     },
     "metadata": {
      "needs_background": "light"
     },
     "output_type": "display_data"
    }
   ],
   "source": [
    "plt.scatter(stock_df.row_num, stock_df.Close, color = 'red', marker='+')\n",
    "plt.plot(stock_df.row_num,gbrt.predict(stock_df[['row_num']]), color='blue')"
   ]
  },
  {
   "cell_type": "code",
   "execution_count": 313,
   "metadata": {},
   "outputs": [
    {
     "data": {
      "text/plain": [
       "[<matplotlib.lines.Line2D at 0x7fac3029dee0>]"
      ]
     },
     "execution_count": 313,
     "metadata": {},
     "output_type": "execute_result"
    },
    {
     "data": {
      "image/png": "[encoded data removed]",
      "text/plain": [
       "<Figure size 432x288 with 1 Axes>"
      ]
     },
     "metadata": {
      "needs_background": "light"
     },
     "output_type": "display_data"
    }
   ],
   "source": [
    "#plot data vs model for polynomial\n",
    "plt.scatter(stock_df.row_num, stock_df.Close, color = 'red', marker='+')\n",
    "plt.plot(stock_df.row_num,polynomial_regression.predict(stock_df[['row_num']]), color='blue')"
   ]
  },
  {
   "cell_type": "code",
   "execution_count": 236,
   "metadata": {},
   "outputs": [
    {
     "name": "stdout",
     "output_type": "stream",
     "text": [
      "rmse train 0.4942407756635799, rmse val 10.719701481153741, r^2 train 0.9997182437415258, r^2 val 0.8656383822867161\n"
     ]
    }
   ],
   "source": [
    "print_score(gbrt_best)"
   ]
  },
  {
   "cell_type": "code",
   "execution_count": 314,
   "metadata": {},
   "outputs": [],
   "source": [
    "#Finally try \n",
    "import xgboost\n",
    "xgb_reg = xgboost.XGBRegressor()\n",
    "xgb_reg.fit(X_train, y_train)\n",
    "y_pred = xgb_reg.predict(X_val)"
   ]
  },
  {
   "cell_type": "code",
   "execution_count": 315,
   "metadata": {},
   "outputs": [
    {
     "data": {
      "text/plain": [
       "[<matplotlib.lines.Line2D at 0x7fac84455a60>]"
      ]
     },
     "execution_count": 315,
     "metadata": {},
     "output_type": "execute_result"
    },
    {
     "data": {
      "image/png": "[encoded data removed]",
      "text/plain": [
       "<Figure size 432x288 with 1 Axes>"
      ]
     },
     "metadata": {
      "needs_background": "light"
     },
     "output_type": "display_data"
    }
   ],
   "source": [
    "plt.scatter(stock_df.row_num, stock_df.Close, color = 'red', marker='+')\n",
    "plt.plot(stock_df.row_num, xgb_reg.predict(stock_df[['row_num']]), color='blue')"
   ]
  },
  {
   "cell_type": "code",
   "execution_count": 341,
   "metadata": {},
   "outputs": [
    {
     "name": "stdout",
     "output_type": "stream",
     "text": [
      "rmse train 54.995165240279505, rmse val 56.4783947060472, r^2 train -3.69879549482517, r^2 val -3.628962430513197\n"
     ]
    }
   ],
   "source": [
    "print_score(gbrt)"
   ]
  },
  {
   "cell_type": "code",
   "execution_count": 240,
   "metadata": {},
   "outputs": [
    {
     "name": "stdout",
     "output_type": "stream",
     "text": [
      "[0]\tvalidation_0-rmse:221.51007\n",
      "Will train until validation_0-rmse hasn't improved in 2 rounds.\n",
      "[1]\tvalidation_0-rmse:159.85551\n",
      "[2]\tvalidation_0-rmse:116.76607\n",
      "[3]\tvalidation_0-rmse:84.27516\n",
      "[4]\tvalidation_0-rmse:61.17498\n",
      "[5]\tvalidation_0-rmse:44.48242\n",
      "[6]\tvalidation_0-rmse:33.79290\n",
      "[7]\tvalidation_0-rmse:25.73636\n",
      "[8]\tvalidation_0-rmse:20.09497\n",
      "[9]\tvalidation_0-rmse:16.66601\n",
      "[10]\tvalidation_0-rmse:14.38741\n",
      "[11]\tvalidation_0-rmse:12.63625\n",
      "[12]\tvalidation_0-rmse:11.53067\n",
      "[13]\tvalidation_0-rmse:10.98216\n",
      "[14]\tvalidation_0-rmse:10.79362\n",
      "[15]\tvalidation_0-rmse:10.64387\n",
      "[16]\tvalidation_0-rmse:10.54568\n",
      "[17]\tvalidation_0-rmse:10.49626\n",
      "[18]\tvalidation_0-rmse:10.47191\n",
      "[19]\tvalidation_0-rmse:10.32997\n",
      "[20]\tvalidation_0-rmse:10.35626\n",
      "[21]\tvalidation_0-rmse:10.38306\n",
      "Stopping. Best iteration:\n",
      "[19]\tvalidation_0-rmse:10.32997\n",
      "\n"
     ]
    }
   ],
   "source": [
    "xgb_reg.fit(X_train, y_train,eval_set=[(X_val, y_val)], early_stopping_rounds = 2)\n",
    "y_pred = xgb_reg.predict(X_val)"
   ]
  },
  {
   "cell_type": "code",
   "execution_count": 245,
   "metadata": {},
   "outputs": [
    {
     "data": {
      "text/plain": [
       "[<matplotlib.lines.Line2D at 0x7fac30392be0>]"
      ]
     },
     "execution_count": 245,
     "metadata": {},
     "output_type": "execute_result"
    },
    {
     "data": {
      "image/png": "[encoded data removed]",
      "text/plain": [
       "<Figure size 432x288 with 1 Axes>"
      ]
     },
     "metadata": {
      "needs_background": "light"
     },
     "output_type": "display_data"
    }
   ],
   "source": [
    "plt.scatter(stock_df.row_num, stock_df.Close, color = 'red', marker='+')\n",
    "plt.plot(stock_df.row_num, xgb_reg.predict(stock_df[['row_num']]), color='blue')\n"
   ]
  },
  {
   "cell_type": "code",
   "execution_count": 242,
   "metadata": {},
   "outputs": [
    {
     "name": "stdout",
     "output_type": "stream",
     "text": [
      "rmse train 1.357629505506092, rmse val 10.329969433674444, r^2 train 0.9978740210387762, r^2 val 0.8752306495538881\n"
     ]
    }
   ],
   "source": [
    "print_score(xgb_reg)"
   ]
  },
  {
   "cell_type": "code",
   "execution_count": 320,
   "metadata": {},
   "outputs": [
    {
     "data": {
      "image/png": "[encoded data removed]",
      "text/plain": [
       "<Figure size 432x288 with 1 Axes>"
      ]
     },
     "metadata": {
      "needs_background": "light"
     },
     "output_type": "display_data"
    }
   ],
   "source": [
    "X = stock_df[['row_num']]\n",
    "y = stock_df.Close\n",
    "xgb_reg = xgboost.XGBRegressor()\n",
    "plot_learning_curves(xgb_reg, X, y)\n",
    "#High overfitting cannot use"
   ]
  },
  {
   "cell_type": "code",
   "execution_count": 344,
   "metadata": {},
   "outputs": [
    {
     "name": "stdout",
     "output_type": "stream",
     "text": [
      "rmse train 3.244759118054554, rmse val 5.0570647708027705, r^2 train 0.9879068959450289, r^2 val 0.9672701707377178\n"
     ]
    }
   ],
   "source": [
    "gbrt = GradientBoostingRegressor(max_depth=2, n_estimators=36)\n",
    "X = stock_df[['row_num','Volume']]\n",
    "y = stock_df.Close\n",
    "X_train, X_val, y_train, y_val = train_test_split(X, y, test_size=0.2)\n",
    "gbrt.fit(X_train, y_train)\n",
    "print_score(gbrt)"
   ]
  },
  {
   "cell_type": "code",
   "execution_count": 8,
   "metadata": {},
   "outputs": [
    {
     "ename": "KeyError",
     "evalue": "\"None of [Index(['row_num'], dtype='object')] are in the [columns]\"",
     "output_type": "error",
     "traceback": [
      "\u001b[0;31m---------------------------------------------------------------------------\u001b[0m",
      "\u001b[0;31mKeyError\u001b[0m                                  Traceback (most recent call last)",
      "\u001b[0;32m<ipython-input-8-0a571277c666>\u001b[0m in \u001b[0;36m<module>\u001b[0;34m\u001b[0m\n\u001b[1;32m      1\u001b[0m \u001b[0mgbrt\u001b[0m \u001b[0;34m=\u001b[0m \u001b[0mGradientBoostingRegressor\u001b[0m\u001b[0;34m(\u001b[0m\u001b[0mmax_depth\u001b[0m\u001b[0;34m=\u001b[0m\u001b[0;36m2\u001b[0m\u001b[0;34m,\u001b[0m \u001b[0mn_estimators\u001b[0m\u001b[0;34m=\u001b[0m\u001b[0;36m36\u001b[0m\u001b[0;34m)\u001b[0m\u001b[0;34m\u001b[0m\u001b[0;34m\u001b[0m\u001b[0m\n\u001b[0;32m----> 2\u001b[0;31m \u001b[0mX\u001b[0m \u001b[0;34m=\u001b[0m \u001b[0mstock_df\u001b[0m\u001b[0;34m[\u001b[0m\u001b[0;34m[\u001b[0m\u001b[0;34m'row_num'\u001b[0m\u001b[0;34m]\u001b[0m\u001b[0;34m]\u001b[0m\u001b[0;34m\u001b[0m\u001b[0;34m\u001b[0m\u001b[0m\n\u001b[0m\u001b[1;32m      3\u001b[0m \u001b[0my\u001b[0m \u001b[0;34m=\u001b[0m \u001b[0mstock_df\u001b[0m\u001b[0;34m.\u001b[0m\u001b[0mClose\u001b[0m\u001b[0;34m\u001b[0m\u001b[0;34m\u001b[0m\u001b[0m\n\u001b[1;32m      4\u001b[0m \u001b[0mX_train\u001b[0m\u001b[0;34m,\u001b[0m \u001b[0mX_val\u001b[0m\u001b[0;34m,\u001b[0m \u001b[0my_train\u001b[0m\u001b[0;34m,\u001b[0m \u001b[0my_val\u001b[0m \u001b[0;34m=\u001b[0m \u001b[0mtrain_test_split\u001b[0m\u001b[0;34m(\u001b[0m\u001b[0mX\u001b[0m\u001b[0;34m,\u001b[0m \u001b[0my\u001b[0m\u001b[0;34m,\u001b[0m \u001b[0mtest_size\u001b[0m\u001b[0;34m=\u001b[0m\u001b[0;36m0.2\u001b[0m\u001b[0;34m)\u001b[0m\u001b[0;34m\u001b[0m\u001b[0;34m\u001b[0m\u001b[0m\n\u001b[1;32m      5\u001b[0m \u001b[0mplt\u001b[0m\u001b[0;34m.\u001b[0m\u001b[0mscatter\u001b[0m\u001b[0;34m(\u001b[0m\u001b[0mstock_df\u001b[0m\u001b[0;34m.\u001b[0m\u001b[0mrow_num\u001b[0m\u001b[0;34m,\u001b[0m \u001b[0mstock_df\u001b[0m\u001b[0;34m.\u001b[0m\u001b[0mClose\u001b[0m\u001b[0;34m,\u001b[0m \u001b[0mcolor\u001b[0m \u001b[0;34m=\u001b[0m \u001b[0;34m'red'\u001b[0m\u001b[0;34m,\u001b[0m \u001b[0mmarker\u001b[0m\u001b[0;34m=\u001b[0m\u001b[0;34m'+'\u001b[0m\u001b[0;34m)\u001b[0m\u001b[0;34m\u001b[0m\u001b[0;34m\u001b[0m\u001b[0m\n",
      "\u001b[0;32m~/.local/lib/python3.8/site-packages/pandas/core/frame.py\u001b[0m in \u001b[0;36m__getitem__\u001b[0;34m(self, key)\u001b[0m\n\u001b[1;32m   2906\u001b[0m             \u001b[0;32mif\u001b[0m \u001b[0mis_iterator\u001b[0m\u001b[0;34m(\u001b[0m\u001b[0mkey\u001b[0m\u001b[0;34m)\u001b[0m\u001b[0;34m:\u001b[0m\u001b[0;34m\u001b[0m\u001b[0;34m\u001b[0m\u001b[0m\n\u001b[1;32m   2907\u001b[0m                 \u001b[0mkey\u001b[0m \u001b[0;34m=\u001b[0m \u001b[0mlist\u001b[0m\u001b[0;34m(\u001b[0m\u001b[0mkey\u001b[0m\u001b[0;34m)\u001b[0m\u001b[0;34m\u001b[0m\u001b[0;34m\u001b[0m\u001b[0m\n\u001b[0;32m-> 2908\u001b[0;31m             \u001b[0mindexer\u001b[0m \u001b[0;34m=\u001b[0m \u001b[0mself\u001b[0m\u001b[0;34m.\u001b[0m\u001b[0mloc\u001b[0m\u001b[0;34m.\u001b[0m\u001b[0m_get_listlike_indexer\u001b[0m\u001b[0;34m(\u001b[0m\u001b[0mkey\u001b[0m\u001b[0;34m,\u001b[0m \u001b[0maxis\u001b[0m\u001b[0;34m=\u001b[0m\u001b[0;36m1\u001b[0m\u001b[0;34m,\u001b[0m \u001b[0mraise_missing\u001b[0m\u001b[0;34m=\u001b[0m\u001b[0;32mTrue\u001b[0m\u001b[0;34m)\u001b[0m\u001b[0;34m[\u001b[0m\u001b[0;36m1\u001b[0m\u001b[0;34m]\u001b[0m\u001b[0;34m\u001b[0m\u001b[0;34m\u001b[0m\u001b[0m\n\u001b[0m\u001b[1;32m   2909\u001b[0m \u001b[0;34m\u001b[0m\u001b[0m\n\u001b[1;32m   2910\u001b[0m         \u001b[0;31m# take() does not accept boolean indexers\u001b[0m\u001b[0;34m\u001b[0m\u001b[0;34m\u001b[0m\u001b[0;34m\u001b[0m\u001b[0m\n",
      "\u001b[0;32m~/.local/lib/python3.8/site-packages/pandas/core/indexing.py\u001b[0m in \u001b[0;36m_get_listlike_indexer\u001b[0;34m(self, key, axis, raise_missing)\u001b[0m\n\u001b[1;32m   1252\u001b[0m             \u001b[0mkeyarr\u001b[0m\u001b[0;34m,\u001b[0m \u001b[0mindexer\u001b[0m\u001b[0;34m,\u001b[0m \u001b[0mnew_indexer\u001b[0m \u001b[0;34m=\u001b[0m \u001b[0max\u001b[0m\u001b[0;34m.\u001b[0m\u001b[0m_reindex_non_unique\u001b[0m\u001b[0;34m(\u001b[0m\u001b[0mkeyarr\u001b[0m\u001b[0;34m)\u001b[0m\u001b[0;34m\u001b[0m\u001b[0;34m\u001b[0m\u001b[0m\n\u001b[1;32m   1253\u001b[0m \u001b[0;34m\u001b[0m\u001b[0m\n\u001b[0;32m-> 1254\u001b[0;31m         \u001b[0mself\u001b[0m\u001b[0;34m.\u001b[0m\u001b[0m_validate_read_indexer\u001b[0m\u001b[0;34m(\u001b[0m\u001b[0mkeyarr\u001b[0m\u001b[0;34m,\u001b[0m \u001b[0mindexer\u001b[0m\u001b[0;34m,\u001b[0m \u001b[0maxis\u001b[0m\u001b[0;34m,\u001b[0m \u001b[0mraise_missing\u001b[0m\u001b[0;34m=\u001b[0m\u001b[0mraise_missing\u001b[0m\u001b[0;34m)\u001b[0m\u001b[0;34m\u001b[0m\u001b[0;34m\u001b[0m\u001b[0m\n\u001b[0m\u001b[1;32m   1255\u001b[0m         \u001b[0;32mreturn\u001b[0m \u001b[0mkeyarr\u001b[0m\u001b[0;34m,\u001b[0m \u001b[0mindexer\u001b[0m\u001b[0;34m\u001b[0m\u001b[0;34m\u001b[0m\u001b[0m\n\u001b[1;32m   1256\u001b[0m \u001b[0;34m\u001b[0m\u001b[0m\n",
      "\u001b[0;32m~/.local/lib/python3.8/site-packages/pandas/core/indexing.py\u001b[0m in \u001b[0;36m_validate_read_indexer\u001b[0;34m(self, key, indexer, axis, raise_missing)\u001b[0m\n\u001b[1;32m   1296\u001b[0m             \u001b[0;32mif\u001b[0m \u001b[0mmissing\u001b[0m \u001b[0;34m==\u001b[0m \u001b[0mlen\u001b[0m\u001b[0;34m(\u001b[0m\u001b[0mindexer\u001b[0m\u001b[0;34m)\u001b[0m\u001b[0;34m:\u001b[0m\u001b[0;34m\u001b[0m\u001b[0;34m\u001b[0m\u001b[0m\n\u001b[1;32m   1297\u001b[0m                 \u001b[0maxis_name\u001b[0m \u001b[0;34m=\u001b[0m \u001b[0mself\u001b[0m\u001b[0;34m.\u001b[0m\u001b[0mobj\u001b[0m\u001b[0;34m.\u001b[0m\u001b[0m_get_axis_name\u001b[0m\u001b[0;34m(\u001b[0m\u001b[0maxis\u001b[0m\u001b[0;34m)\u001b[0m\u001b[0;34m\u001b[0m\u001b[0;34m\u001b[0m\u001b[0m\n\u001b[0;32m-> 1298\u001b[0;31m                 \u001b[0;32mraise\u001b[0m \u001b[0mKeyError\u001b[0m\u001b[0;34m(\u001b[0m\u001b[0;34mf\"None of [{key}] are in the [{axis_name}]\"\u001b[0m\u001b[0;34m)\u001b[0m\u001b[0;34m\u001b[0m\u001b[0;34m\u001b[0m\u001b[0m\n\u001b[0m\u001b[1;32m   1299\u001b[0m \u001b[0;34m\u001b[0m\u001b[0m\n\u001b[1;32m   1300\u001b[0m             \u001b[0;31m# We (temporarily) allow for some missing keys with .loc, except in\u001b[0m\u001b[0;34m\u001b[0m\u001b[0;34m\u001b[0m\u001b[0;34m\u001b[0m\u001b[0m\n",
      "\u001b[0;31mKeyError\u001b[0m: \"None of [Index(['row_num'], dtype='object')] are in the [columns]\""
     ]
    }
   ],
   "source": [
    "\n",
    "gbrt = GradientBoostingRegressor(max_depth=2, n_estimators=36)\n",
    "X = stock_df[['row_num']]\n",
    "y = stock_df.Close\n",
    "X_train, X_val, y_train, y_val = train_test_split(X, y, test_size=0.2)\n",
    "plt.scatter(stock_df.row_num, stock_df.Close, color = 'red', marker='+')\n",
    "plt.plot(stock_df.row_num, gbrt.predict(stock_df[['row_num']]), color='blue')"
   ]
  },
  {
   "cell_type": "code",
   "execution_count": null,
   "metadata": {},
   "outputs": [],
   "source": [
    "#Get data\n",
    "import pandas as pd\n",
    "import pandas_datareader.data as web\n",
    "from datetime import datetime\n",
    "start = datetime(2017, 1,1 )\n",
    "end = datetime(2020, 3, 20)\n",
    "stock_df = web.DataReader('SPY','yahoo', start, end).reset_index()\n",
    "import numpy as np\n",
    "stock_df['row_num'] = np.arange(len(stock_df))\n",
    "\n",
    "#Trying out random forest\n",
    "from sklearn.ensemble import RandomForestRegressor\n",
    "\n",
    "#higher bias for lower variance\n",
    "from IPython.display import Image\n",
    "X = stock_df[['row_num']]\n",
    "y = stock_df.Close\n",
    "X_train, X_val, y_train, y_val = train_test_split(X, y, test_size=0.2)\n",
    "model = RandomForestRegressor(n_estimators=50, bootstrap=True, min_samples_leaf=25)\n",
    "#model.fit(X_train, y_train)\n",
    "plot_learning_curves(model, X, y)"
   ]
  },
  {
   "cell_type": "code",
   "execution_count": 363,
   "metadata": {},
   "outputs": [
    {
     "ename": "NameError",
     "evalue": "name 'lin_reg222' is not defined",
     "output_type": "error",
     "traceback": [
      "\u001b[0;31m---------------------------------------------------------------------------\u001b[0m",
      "\u001b[0;31mNameError\u001b[0m                                 Traceback (most recent call last)",
      "\u001b[0;32m<ipython-input-363-d7529c14ec0d>\u001b[0m in \u001b[0;36m<module>\u001b[0;34m\u001b[0m\n\u001b[1;32m      7\u001b[0m \u001b[0mX_train\u001b[0m\u001b[0;34m,\u001b[0m \u001b[0mX_val\u001b[0m\u001b[0;34m,\u001b[0m \u001b[0my_train\u001b[0m\u001b[0;34m,\u001b[0m \u001b[0my_val\u001b[0m \u001b[0;34m=\u001b[0m \u001b[0mtrain_test_split\u001b[0m\u001b[0;34m(\u001b[0m\u001b[0mX\u001b[0m\u001b[0;34m,\u001b[0m \u001b[0my\u001b[0m\u001b[0;34m,\u001b[0m \u001b[0mtest_size\u001b[0m\u001b[0;34m=\u001b[0m\u001b[0;36m0.2\u001b[0m\u001b[0;34m)\u001b[0m\u001b[0;34m\u001b[0m\u001b[0;34m\u001b[0m\u001b[0m\n\u001b[1;32m      8\u001b[0m \u001b[0mpolynomial_regression\u001b[0m\u001b[0;34m.\u001b[0m\u001b[0mfit\u001b[0m\u001b[0;34m(\u001b[0m\u001b[0mX_train\u001b[0m\u001b[0;34m,\u001b[0m \u001b[0my_train\u001b[0m\u001b[0;34m)\u001b[0m\u001b[0;34m\u001b[0m\u001b[0;34m\u001b[0m\u001b[0m\n\u001b[0;32m----> 9\u001b[0;31m \u001b[0mlin_reg222\u001b[0m\u001b[0;34m.\u001b[0m\u001b[0mpredict\u001b[0m\u001b[0;34m(\u001b[0m\u001b[0;34m[\u001b[0m\u001b[0;34m[\u001b[0m\u001b[0;36m20\u001b[0m\u001b[0;34m]\u001b[0m\u001b[0;34m]\u001b[0m\u001b[0;34m)\u001b[0m\u001b[0;34m[\u001b[0m\u001b[0;36m0\u001b[0m\u001b[0;34m]\u001b[0m\u001b[0;34m\u001b[0m\u001b[0;34m\u001b[0m\u001b[0m\n\u001b[0m",
      "\u001b[0;31mNameError\u001b[0m: name 'lin_reg222' is not defined"
     ]
    }
   ],
   "source": [
    "polynomial_regression = Pipeline([\n",
    "    (\"poly_features\", PolynomialFeatures(degree=2, include_bias = False)),\n",
    "    (\"lin_reg\", linear_model.LinearRegression()),\n",
    "])\n",
    "X = stock_df[['row_num']]\n",
    "y = stock_df.Close\n",
    "X_train, X_val, y_train, y_val = train_test_split(X, y, test_size=0.2)\n",
    "polynomial_regression.fit(X_train, y_train)\n",
    "lin_reg.predict([[20]])[0]\n"
   ]
  },
  {
   "cell_type": "code",
   "execution_count": 367,
   "metadata": {},
   "outputs": [
    {
     "data": {
      "text/plain": [
       "327.4086194570509"
      ]
     },
     "execution_count": 367,
     "metadata": {},
     "output_type": "execute_result"
    }
   ],
   "source": [
    "#gradient Boosting regressor\n",
    "gbrt = GradientBoostingRegressor(max_depth=2, n_estimators=36)\n",
    "X = stock_df[['row_num']]\n",
    "y = stock_df.Close\n",
    "X_train, X_val, y_train, y_val = train_test_split(X, y, test_size=0.2)\n",
    "gbrt.fit(X_train, y_train)\n",
    "gbrt.predict([[20]])[0]"
   ]
  },
  {
   "cell_type": "code",
   "execution_count": 11,
   "metadata": {},
   "outputs": [
    {
     "ename": "KeyError",
     "evalue": "\"None of [Index(['row_num'], dtype='object')] are in the [columns]\"",
     "output_type": "error",
     "traceback": [
      "\u001b[0;31m---------------------------------------------------------------------------\u001b[0m",
      "\u001b[0;31mKeyError\u001b[0m                                  Traceback (most recent call last)",
      "\u001b[0;32m<ipython-input-11-024cdda8c6c0>\u001b[0m in \u001b[0;36m<module>\u001b[0;34m\u001b[0m\n\u001b[0;32m----> 1\u001b[0;31m \u001b[0mX\u001b[0m \u001b[0;34m=\u001b[0m \u001b[0mstock_df\u001b[0m\u001b[0;34m[\u001b[0m\u001b[0;34m[\u001b[0m\u001b[0;34m'row_num'\u001b[0m\u001b[0;34m]\u001b[0m\u001b[0;34m]\u001b[0m\u001b[0;34m\u001b[0m\u001b[0;34m\u001b[0m\u001b[0m\n\u001b[0m\u001b[1;32m      2\u001b[0m \u001b[0my\u001b[0m \u001b[0;34m=\u001b[0m \u001b[0mstock_df\u001b[0m\u001b[0;34m.\u001b[0m\u001b[0mClose\u001b[0m\u001b[0;34m\u001b[0m\u001b[0;34m\u001b[0m\u001b[0m\n\u001b[1;32m      3\u001b[0m \u001b[0mxgb_reg\u001b[0m \u001b[0;34m=\u001b[0m \u001b[0mxgboost\u001b[0m\u001b[0;34m.\u001b[0m\u001b[0mXGBRegressor\u001b[0m\u001b[0;34m(\u001b[0m\u001b[0;34m)\u001b[0m\u001b[0;34m\u001b[0m\u001b[0;34m\u001b[0m\u001b[0m\n\u001b[1;32m      4\u001b[0m \u001b[0mX\u001b[0m \u001b[0;34m=\u001b[0m \u001b[0mstock_df\u001b[0m\u001b[0;34m[\u001b[0m\u001b[0;34m[\u001b[0m\u001b[0;34m'row_num'\u001b[0m\u001b[0;34m]\u001b[0m\u001b[0;34m]\u001b[0m\u001b[0;34m\u001b[0m\u001b[0;34m\u001b[0m\u001b[0m\n\u001b[1;32m      5\u001b[0m \u001b[0my\u001b[0m \u001b[0;34m=\u001b[0m \u001b[0mstock_df\u001b[0m\u001b[0;34m.\u001b[0m\u001b[0mClose\u001b[0m\u001b[0;34m\u001b[0m\u001b[0;34m\u001b[0m\u001b[0m\n",
      "\u001b[0;32m~/.local/lib/python3.8/site-packages/pandas/core/frame.py\u001b[0m in \u001b[0;36m__getitem__\u001b[0;34m(self, key)\u001b[0m\n\u001b[1;32m   2906\u001b[0m             \u001b[0;32mif\u001b[0m \u001b[0mis_iterator\u001b[0m\u001b[0;34m(\u001b[0m\u001b[0mkey\u001b[0m\u001b[0;34m)\u001b[0m\u001b[0;34m:\u001b[0m\u001b[0;34m\u001b[0m\u001b[0;34m\u001b[0m\u001b[0m\n\u001b[1;32m   2907\u001b[0m                 \u001b[0mkey\u001b[0m \u001b[0;34m=\u001b[0m \u001b[0mlist\u001b[0m\u001b[0;34m(\u001b[0m\u001b[0mkey\u001b[0m\u001b[0;34m)\u001b[0m\u001b[0;34m\u001b[0m\u001b[0;34m\u001b[0m\u001b[0m\n\u001b[0;32m-> 2908\u001b[0;31m             \u001b[0mindexer\u001b[0m \u001b[0;34m=\u001b[0m \u001b[0mself\u001b[0m\u001b[0;34m.\u001b[0m\u001b[0mloc\u001b[0m\u001b[0;34m.\u001b[0m\u001b[0m_get_listlike_indexer\u001b[0m\u001b[0;34m(\u001b[0m\u001b[0mkey\u001b[0m\u001b[0;34m,\u001b[0m \u001b[0maxis\u001b[0m\u001b[0;34m=\u001b[0m\u001b[0;36m1\u001b[0m\u001b[0;34m,\u001b[0m \u001b[0mraise_missing\u001b[0m\u001b[0;34m=\u001b[0m\u001b[0;32mTrue\u001b[0m\u001b[0;34m)\u001b[0m\u001b[0;34m[\u001b[0m\u001b[0;36m1\u001b[0m\u001b[0;34m]\u001b[0m\u001b[0;34m\u001b[0m\u001b[0;34m\u001b[0m\u001b[0m\n\u001b[0m\u001b[1;32m   2909\u001b[0m \u001b[0;34m\u001b[0m\u001b[0m\n\u001b[1;32m   2910\u001b[0m         \u001b[0;31m# take() does not accept boolean indexers\u001b[0m\u001b[0;34m\u001b[0m\u001b[0;34m\u001b[0m\u001b[0;34m\u001b[0m\u001b[0m\n",
      "\u001b[0;32m~/.local/lib/python3.8/site-packages/pandas/core/indexing.py\u001b[0m in \u001b[0;36m_get_listlike_indexer\u001b[0;34m(self, key, axis, raise_missing)\u001b[0m\n\u001b[1;32m   1252\u001b[0m             \u001b[0mkeyarr\u001b[0m\u001b[0;34m,\u001b[0m \u001b[0mindexer\u001b[0m\u001b[0;34m,\u001b[0m \u001b[0mnew_indexer\u001b[0m \u001b[0;34m=\u001b[0m \u001b[0max\u001b[0m\u001b[0;34m.\u001b[0m\u001b[0m_reindex_non_unique\u001b[0m\u001b[0;34m(\u001b[0m\u001b[0mkeyarr\u001b[0m\u001b[0;34m)\u001b[0m\u001b[0;34m\u001b[0m\u001b[0;34m\u001b[0m\u001b[0m\n\u001b[1;32m   1253\u001b[0m \u001b[0;34m\u001b[0m\u001b[0m\n\u001b[0;32m-> 1254\u001b[0;31m         \u001b[0mself\u001b[0m\u001b[0;34m.\u001b[0m\u001b[0m_validate_read_indexer\u001b[0m\u001b[0;34m(\u001b[0m\u001b[0mkeyarr\u001b[0m\u001b[0;34m,\u001b[0m \u001b[0mindexer\u001b[0m\u001b[0;34m,\u001b[0m \u001b[0maxis\u001b[0m\u001b[0;34m,\u001b[0m \u001b[0mraise_missing\u001b[0m\u001b[0;34m=\u001b[0m\u001b[0mraise_missing\u001b[0m\u001b[0;34m)\u001b[0m\u001b[0;34m\u001b[0m\u001b[0;34m\u001b[0m\u001b[0m\n\u001b[0m\u001b[1;32m   1255\u001b[0m         \u001b[0;32mreturn\u001b[0m \u001b[0mkeyarr\u001b[0m\u001b[0;34m,\u001b[0m \u001b[0mindexer\u001b[0m\u001b[0;34m\u001b[0m\u001b[0;34m\u001b[0m\u001b[0m\n\u001b[1;32m   1256\u001b[0m \u001b[0;34m\u001b[0m\u001b[0m\n",
      "\u001b[0;32m~/.local/lib/python3.8/site-packages/pandas/core/indexing.py\u001b[0m in \u001b[0;36m_validate_read_indexer\u001b[0;34m(self, key, indexer, axis, raise_missing)\u001b[0m\n\u001b[1;32m   1296\u001b[0m             \u001b[0;32mif\u001b[0m \u001b[0mmissing\u001b[0m \u001b[0;34m==\u001b[0m \u001b[0mlen\u001b[0m\u001b[0;34m(\u001b[0m\u001b[0mindexer\u001b[0m\u001b[0;34m)\u001b[0m\u001b[0;34m:\u001b[0m\u001b[0;34m\u001b[0m\u001b[0;34m\u001b[0m\u001b[0m\n\u001b[1;32m   1297\u001b[0m                 \u001b[0maxis_name\u001b[0m \u001b[0;34m=\u001b[0m \u001b[0mself\u001b[0m\u001b[0;34m.\u001b[0m\u001b[0mobj\u001b[0m\u001b[0;34m.\u001b[0m\u001b[0m_get_axis_name\u001b[0m\u001b[0;34m(\u001b[0m\u001b[0maxis\u001b[0m\u001b[0;34m)\u001b[0m\u001b[0;34m\u001b[0m\u001b[0;34m\u001b[0m\u001b[0m\n\u001b[0;32m-> 1298\u001b[0;31m                 \u001b[0;32mraise\u001b[0m \u001b[0mKeyError\u001b[0m\u001b[0;34m(\u001b[0m\u001b[0;34mf\"None of [{key}] are in the [{axis_name}]\"\u001b[0m\u001b[0;34m)\u001b[0m\u001b[0;34m\u001b[0m\u001b[0;34m\u001b[0m\u001b[0m\n\u001b[0m\u001b[1;32m   1299\u001b[0m \u001b[0;34m\u001b[0m\u001b[0m\n\u001b[1;32m   1300\u001b[0m             \u001b[0;31m# We (temporarily) allow for some missing keys with .loc, except in\u001b[0m\u001b[0;34m\u001b[0m\u001b[0;34m\u001b[0m\u001b[0;34m\u001b[0m\u001b[0m\n",
      "\u001b[0;31mKeyError\u001b[0m: \"None of [Index(['row_num'], dtype='object')] are in the [columns]\""
     ]
    }
   ],
   "source": []
  }
 ],
 "metadata": {
  "kernelspec": {
   "display_name": "Python 3",
   "language": "python",
   "name": "python3"
  },
  "language_info": {
   "codemirror_mode": {
    "name": "ipython",
    "version": 3
   },
   "file_extension": ".py",
   "mimetype": "text/x-python",
   "name": "python",
   "nbconvert_exporter": "python",
   "pygments_lexer": "ipython3",
   "version": "3.8.5"
  }
 },
 "nbformat": 4,
 "nbformat_minor": 4
}
