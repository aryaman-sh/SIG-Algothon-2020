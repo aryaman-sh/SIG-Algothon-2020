{
 "cells": [
  {
   "cell_type": "code",
   "execution_count": 13,
   "metadata": {},
   "outputs": [
    {
     "name": "stdout",
     "output_type": "stream",
     "text": [
      "Requirement already satisfied: backtrader in /home/aryaman/.local/lib/python3.8/site-packages (1.9.76.123)\r\n"
     ]
    }
   ],
   "source": [
    "# # uncomment this to install backtrader\n",
    "import sys\n",
    "!{sys.executable} -m pip install backtrader"
   ]
  },
  {
   "cell_type": "code",
   "execution_count": 15,
   "metadata": {},
   "outputs": [],
   "source": [
    "import pandas as pd\n",
    "import matplotlib.pyplot as plt\n",
    "\n",
    "import backtrader as bt\n",
    "from datetime import datetime"
   ]
  },
  {
   "cell_type": "code",
   "execution_count": 16,
   "metadata": {},
   "outputs": [],
   "source": [
    "class firstStrategy(bt.Strategy):\n",
    "    \n",
    "    def __init__(self):\n",
    "        self.rsi = bt.indicators.RSI_SMA(self.data.close, period=25)\n",
    "        \n",
    "    def next(self):\n",
    "        if not self.position:\n",
    "            if self.rsi < 30:\n",
    "                self.buy(size=100)\n",
    "        else:\n",
    "            if self.rsi > 70:\n",
    "                self.sell(size=100)"
   ]
  },
  {
   "cell_type": "code",
   "execution_count": 17,
   "metadata": {},
   "outputs": [],
   "source": [
    "# https://www.backtrader.com/blog/2019-06-13-buy-and-hold/buy-and-hold/\n",
    "class SimpleBuyAndHold(bt.Strategy):\n",
    "    def start(self):\n",
    "        self.val_start = self.broker.get_cash()  # keep the starting cash\n",
    "        self.size = 0\n",
    "\n",
    "    def nextstart(self):\n",
    "        # Buy all the available cash\n",
    "#         self.size = int(self.broker.get_cash() / self.data)\n",
    "#         print(\"Size bought:\", self.size)\n",
    "#         self.buy(size=self.size)\n",
    "#         self.order_target_value(target=self.broker.get_cash())  # doesn't work\n",
    "        self.order_target_percent(target=0.99)\n",
    "\n",
    "    def stop(self):\n",
    "        # calculate the actual returns\n",
    "        print(\"Position:\", self.getposition().size)\n",
    "        self.roi = (self.broker.get_value() / self.val_start) - 1.0\n",
    "        print('ROI:        {:.2f}%'.format(100.0 * self.roi))        "
   ]
  },
  {
   "cell_type": "code",
   "execution_count": 18,
   "metadata": {},
   "outputs": [],
   "source": [
    "class SMACross(bt.Strategy):\n",
    "    \n",
    "    def __init__(self):\n",
    "        pfast = 5\n",
    "        pslow = 25\n",
    "        sma1 = bt.ind.SMA(period=pfast)\n",
    "        sma2 = bt.ind.SMA(period=pslow)\n",
    "        self.crossover = bt.ind.CrossOver(sma1, sma2)\n",
    "    \n",
    "    def next(self):\n",
    "        if not self.position:\n",
    "            if self.crossover > 0:\n",
    "                self.order_target_percent(target=0.99) # all in\n",
    "        elif self.crossover < 0:\n",
    "            self.order_target_size(target=0)\n",
    "        "
   ]
  },
  {
   "cell_type": "code",
   "execution_count": 21,
   "metadata": {
    "scrolled": false
   },
   "outputs": [
    {
     "name": "stdout",
     "output_type": "stream",
     "text": [
      "Starting Portfolio Value: $1000000.00\n",
      "Final Portfolio Value: $2909296.67\n",
      "P/L: $1909296.67\n"
     ]
    },
    {
     "ename": "ImportError",
     "evalue": "cannot import name 'warnings' from 'matplotlib.dates' (/home/aryaman/.local/lib/python3.8/site-packages/matplotlib/dates.py)",
     "output_type": "error",
     "traceback": [
      "\u001b[0;31m---------------------------------------------------------------------------\u001b[0m",
      "\u001b[0;31mImportError\u001b[0m                               Traceback (most recent call last)",
      "\u001b[0;32m<ipython-input-21-169aba16ee79>\u001b[0m in \u001b[0;36m<module>\u001b[0;34m\u001b[0m\n\u001b[1;32m     32\u001b[0m \u001b[0;34m\u001b[0m\u001b[0m\n\u001b[1;32m     33\u001b[0m \u001b[0;31m#Finally plot the end results\u001b[0m\u001b[0;34m\u001b[0m\u001b[0;34m\u001b[0m\u001b[0;34m\u001b[0m\u001b[0m\n\u001b[0;32m---> 34\u001b[0;31m \u001b[0mcerebro\u001b[0m\u001b[0;34m.\u001b[0m\u001b[0mplot\u001b[0m\u001b[0;34m(\u001b[0m\u001b[0;34m)\u001b[0m\u001b[0;34m\u001b[0m\u001b[0;34m\u001b[0m\u001b[0m\n\u001b[0m",
      "\u001b[0;32m~/.local/lib/python3.8/site-packages/backtrader/cerebro.py\u001b[0m in \u001b[0;36mplot\u001b[0;34m(self, plotter, numfigs, iplot, start, end, width, height, dpi, tight, use, **kwargs)\u001b[0m\n\u001b[1;32m    972\u001b[0m \u001b[0;34m\u001b[0m\u001b[0m\n\u001b[1;32m    973\u001b[0m         \u001b[0;32mif\u001b[0m \u001b[0;32mnot\u001b[0m \u001b[0mplotter\u001b[0m\u001b[0;34m:\u001b[0m\u001b[0;34m\u001b[0m\u001b[0;34m\u001b[0m\u001b[0m\n\u001b[0;32m--> 974\u001b[0;31m             \u001b[0;32mfrom\u001b[0m \u001b[0;34m.\u001b[0m \u001b[0;32mimport\u001b[0m \u001b[0mplot\u001b[0m\u001b[0;34m\u001b[0m\u001b[0;34m\u001b[0m\u001b[0m\n\u001b[0m\u001b[1;32m    975\u001b[0m             \u001b[0;32mif\u001b[0m \u001b[0mself\u001b[0m\u001b[0;34m.\u001b[0m\u001b[0mp\u001b[0m\u001b[0;34m.\u001b[0m\u001b[0moldsync\u001b[0m\u001b[0;34m:\u001b[0m\u001b[0;34m\u001b[0m\u001b[0;34m\u001b[0m\u001b[0m\n\u001b[1;32m    976\u001b[0m                 \u001b[0mplotter\u001b[0m \u001b[0;34m=\u001b[0m \u001b[0mplot\u001b[0m\u001b[0;34m.\u001b[0m\u001b[0mPlot_OldSync\u001b[0m\u001b[0;34m(\u001b[0m\u001b[0;34m**\u001b[0m\u001b[0mkwargs\u001b[0m\u001b[0;34m)\u001b[0m\u001b[0;34m\u001b[0m\u001b[0;34m\u001b[0m\u001b[0m\n",
      "\u001b[0;32m~/.local/lib/python3.8/site-packages/backtrader/plot/__init__.py\u001b[0m in \u001b[0;36m<module>\u001b[0;34m\u001b[0m\n\u001b[1;32m     40\u001b[0m \u001b[0;34m\u001b[0m\u001b[0m\n\u001b[1;32m     41\u001b[0m \u001b[0;34m\u001b[0m\u001b[0m\n\u001b[0;32m---> 42\u001b[0;31m \u001b[0;32mfrom\u001b[0m \u001b[0;34m.\u001b[0m\u001b[0mplot\u001b[0m \u001b[0;32mimport\u001b[0m \u001b[0mPlot\u001b[0m\u001b[0;34m,\u001b[0m \u001b[0mPlot_OldSync\u001b[0m\u001b[0;34m\u001b[0m\u001b[0;34m\u001b[0m\u001b[0m\n\u001b[0m\u001b[1;32m     43\u001b[0m \u001b[0;32mfrom\u001b[0m \u001b[0;34m.\u001b[0m\u001b[0mscheme\u001b[0m \u001b[0;32mimport\u001b[0m \u001b[0mPlotScheme\u001b[0m\u001b[0;34m\u001b[0m\u001b[0;34m\u001b[0m\u001b[0m\n",
      "\u001b[0;32m~/.local/lib/python3.8/site-packages/backtrader/plot/plot.py\u001b[0m in \u001b[0;36m<module>\u001b[0;34m\u001b[0m\n\u001b[1;32m     42\u001b[0m \u001b[0;32mfrom\u001b[0m \u001b[0;34m.\u001b[0m\u001b[0mfinance\u001b[0m \u001b[0;32mimport\u001b[0m \u001b[0mplot_candlestick\u001b[0m\u001b[0;34m,\u001b[0m \u001b[0mplot_ohlc\u001b[0m\u001b[0;34m,\u001b[0m \u001b[0mplot_volume\u001b[0m\u001b[0;34m,\u001b[0m \u001b[0mplot_lineonclose\u001b[0m\u001b[0;34m\u001b[0m\u001b[0;34m\u001b[0m\u001b[0m\n\u001b[1;32m     43\u001b[0m \u001b[0;32mfrom\u001b[0m \u001b[0;34m.\u001b[0m\u001b[0mformatters\u001b[0m \u001b[0;32mimport\u001b[0m \u001b[0;34m(\u001b[0m\u001b[0mMyVolFormatter\u001b[0m\u001b[0;34m,\u001b[0m \u001b[0mMyDateFormatter\u001b[0m\u001b[0;34m,\u001b[0m \u001b[0mgetlocator\u001b[0m\u001b[0;34m)\u001b[0m\u001b[0;34m\u001b[0m\u001b[0;34m\u001b[0m\u001b[0m\n\u001b[0;32m---> 44\u001b[0;31m \u001b[0;32mfrom\u001b[0m \u001b[0;34m.\u001b[0m \u001b[0;32mimport\u001b[0m \u001b[0mlocator\u001b[0m \u001b[0;32mas\u001b[0m \u001b[0mloc\u001b[0m\u001b[0;34m\u001b[0m\u001b[0;34m\u001b[0m\u001b[0m\n\u001b[0m\u001b[1;32m     45\u001b[0m \u001b[0;32mfrom\u001b[0m \u001b[0;34m.\u001b[0m\u001b[0mmulticursor\u001b[0m \u001b[0;32mimport\u001b[0m \u001b[0mMultiCursor\u001b[0m\u001b[0;34m\u001b[0m\u001b[0;34m\u001b[0m\u001b[0m\n\u001b[1;32m     46\u001b[0m \u001b[0;32mfrom\u001b[0m \u001b[0;34m.\u001b[0m\u001b[0mscheme\u001b[0m \u001b[0;32mimport\u001b[0m \u001b[0mPlotScheme\u001b[0m\u001b[0;34m\u001b[0m\u001b[0;34m\u001b[0m\u001b[0m\n",
      "\u001b[0;32m~/.local/lib/python3.8/site-packages/backtrader/plot/locator.py\u001b[0m in \u001b[0;36m<module>\u001b[0;34m\u001b[0m\n\u001b[1;32m     33\u001b[0m \u001b[0;32mfrom\u001b[0m \u001b[0mmatplotlib\u001b[0m\u001b[0;34m.\u001b[0m\u001b[0mdates\u001b[0m \u001b[0;32mimport\u001b[0m \u001b[0mAutoDateFormatter\u001b[0m \u001b[0;32mas\u001b[0m \u001b[0mADFormatter\u001b[0m\u001b[0;34m\u001b[0m\u001b[0;34m\u001b[0m\u001b[0m\n\u001b[1;32m     34\u001b[0m \u001b[0;34m\u001b[0m\u001b[0m\n\u001b[0;32m---> 35\u001b[0;31m from matplotlib.dates import (HOURS_PER_DAY, MIN_PER_HOUR, SEC_PER_MIN,\n\u001b[0m\u001b[1;32m     36\u001b[0m                               \u001b[0mMONTHS_PER_YEAR\u001b[0m\u001b[0;34m,\u001b[0m \u001b[0mDAYS_PER_WEEK\u001b[0m\u001b[0;34m,\u001b[0m\u001b[0;34m\u001b[0m\u001b[0;34m\u001b[0m\u001b[0m\n\u001b[1;32m     37\u001b[0m                               \u001b[0mSEC_PER_HOUR\u001b[0m\u001b[0;34m,\u001b[0m \u001b[0mSEC_PER_DAY\u001b[0m\u001b[0;34m,\u001b[0m\u001b[0;34m\u001b[0m\u001b[0;34m\u001b[0m\u001b[0m\n",
      "\u001b[0;31mImportError\u001b[0m: cannot import name 'warnings' from 'matplotlib.dates' (/home/aryaman/.local/lib/python3.8/site-packages/matplotlib/dates.py)"
     ]
    }
   ],
   "source": [
    "# from https://backtest-rookies.com/2017/06/02/getting-started-first-script/\n",
    "\n",
    "# set starting cash\n",
    "startcash = 1000000\n",
    "\n",
    "cerebro = bt.Cerebro()\n",
    "\n",
    "# add strategy here\n",
    "cerebro.addstrategy(SMACross)\n",
    "\n",
    "\n",
    "# Get SPY data from Yahoo Finance\n",
    "data = bt.feeds.YahooFinanceData(dataname='AAPL',\n",
    "                                 fromdate = datetime(2017, 1, 1),\n",
    "                                 todate = datetime(2020, 9, 30)\n",
    "                                )\n",
    "cerebro.adddata(data)\n",
    "cerebro.broker.setcash(startcash)\n",
    "\n",
    "print('Starting Portfolio Value: $%.2f' % cerebro.broker.getvalue())\n",
    "\n",
    "# start backtest here\n",
    "cerebro.run()\n",
    "\n",
    "#Get final portfolio Value\n",
    "portvalue = cerebro.broker.getvalue()\n",
    "pnl = portvalue - startcash\n",
    "\n",
    "#Print out the final result\n",
    "print('Final Portfolio Value: $%.2f' % cerebro.broker.getvalue())\n",
    "print('P/L: ${}'.format(pnl))\n",
    "\n",
    "#Finally plot the end results\n",
    "cerebro.plot()"
   ]
  },
  {
   "cell_type": "code",
   "execution_count": null,
   "metadata": {},
   "outputs": [],
   "source": [
    "# buy and hold P/L: $576803.3700000001"
   ]
  }
 ],
 "metadata": {
  "kernelspec": {
   "display_name": "Python 3",
   "language": "python",
   "name": "python3"
  },
  "language_info": {
   "codemirror_mode": {
    "name": "ipython",
    "version": 3
   },
   "file_extension": ".py",
   "mimetype": "text/x-python",
   "name": "python",
   "nbconvert_exporter": "python",
   "pygments_lexer": "ipython3",
   "version": "3.8.5"
  }
 },
 "nbformat": 4,
 "nbformat_minor": 4
}
